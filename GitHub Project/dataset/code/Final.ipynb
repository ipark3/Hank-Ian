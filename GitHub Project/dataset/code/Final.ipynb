{
  "nbformat": 4,
  "nbformat_minor": 0,
  "metadata": {
    "colab": {
      "provenance": [],
      "include_colab_link": true
    },
    "kernelspec": {
      "name": "python3",
      "display_name": "Python 3"
    },
    "language_info": {
      "name": "python"
    }
  },
  "cells": [
    {
      "cell_type": "markdown",
      "metadata": {
        "id": "view-in-github",
        "colab_type": "text"
      },
      "source": [
        "<a href=\"https://colab.research.google.com/github/ipark3/Hank-Ian/blob/main/GitHub%20Project/dataset/code/Final.ipynb\" target=\"_parent\"><img src=\"https://colab.research.google.com/assets/colab-badge.svg\" alt=\"Open In Colab\"/></a>"
      ]
    },
    {
      "cell_type": "markdown",
      "source": [
        "## Dataset Features\n",
        "Dataset Name: Air_Quality <br>\n",
        "Indicator ID <br>\n",
        "Type <br>\n",
        "Name <br>\n",
        "Measure Info <br>\n",
        "Geo Type Name <br>\n",
        "Geo Join ID <br>\n",
        "Geo Place Name <br>\n",
        "Time Period <br>\n",
        "Start Date <br>\n",
        "Data Value <br>\n",
        "\n",
        "\n",
        "Key attributes are the types such as <u>PM 2.5,</u> <u>Nitrogen Dioxide,</u><u> Total SO2,</u> and <u> Ozone (O3)</u>\n",
        "<br><br>\n",
        "\n",
        "Size: 18,026 <br>\n",
        "Created: \tNovember 10, 2020 <br>\n",
        "Dataset: \thttps://catalog.data.gov/dataset/air-quality <br>\n"
      ],
      "metadata": {
        "id": "JiqI8e_cAvyo"
      }
    },
    {
      "cell_type": "markdown",
      "source": [
        "## Data Cleanup:"
      ],
      "metadata": {
        "id": "OB4q0L6GAsts"
      }
    },
    {
      "cell_type": "code",
      "execution_count": null,
      "metadata": {
        "id": "gZIrkJDa0o8l"
      },
      "outputs": [],
      "source": [
        "# Google Drive Mount\n",
        "from google.colab import drive\n",
        "drive.mount('/content/drive')\n",
        "\n",
        "# Import necessary libraries\n",
        "import pandas as pd\n",
        "\n",
        "# Load the dataset (replace 'path_to_file' with your file path)\n",
        "file_path = '/content/drive/MyDrive/Personal/NCHS_-_Leading_Causes_of_Death__United_States.csv'\n",
        "data = pd.ExcelFile(file_path)\n",
        "\n",
        "# Parse the relevant sheet\n",
        "df = data.parse('Air_Quality')\n",
        "\n",
        "# Drop the 'Message' column as it contains only null values\n",
        "df = df.drop(columns=['Message'])\n",
        "\n",
        "# Handle missing values in 'Geo Join ID' and 'Geo Place Name'\n",
        "df = df.dropna(subset=['Geo Join ID', 'Geo Place Name'])\n",
        "\n",
        "# Ensure proper data types\n",
        "df['Geo Join ID'] = df['Geo Join ID'].astype(int)\n",
        "\n",
        "# Remove duplicate rows, if any\n",
        "df = df.drop_duplicates()\n",
        "\n",
        "# Review the cleaned data\n",
        "print(\"Cleaned Dataset Overview:\")\n",
        "print(df.info())\n",
        "\n",
        "# Save the cleaned data for further analysis\n",
        "df.to_csv('Cleaned_Air_Quality.csv', index=False)\n",
        "print(\"Cleaned data saved as 'Cleaned_Air_Quality.csv'\")"
      ]
    }
  ]
}