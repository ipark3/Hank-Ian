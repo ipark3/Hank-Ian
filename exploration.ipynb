{
  "nbformat": 4,
  "nbformat_minor": 0,
  "metadata": {
    "colab": {
      "provenance": [],
      "include_colab_link": true
    },
    "kernelspec": {
      "name": "python3",
      "display_name": "Python 3"
    },
    "language_info": {
      "name": "python"
    }
  },
  "cells": [
    {
      "cell_type": "markdown",
      "metadata": {
        "id": "view-in-github",
        "colab_type": "text"
      },
      "source": [
        "<a href=\"https://colab.research.google.com/github/ipark3/Hank-Ian/blob/main/exploration.ipynb\" target=\"_parent\"><img src=\"https://colab.research.google.com/assets/colab-badge.svg\" alt=\"Open In Colab\"/></a>"
      ]
    },
    {
      "cell_type": "code",
      "execution_count": null,
      "metadata": {
        "id": "87et4cdcwUpC"
      },
      "outputs": [],
      "source": []
    },
    {
      "cell_type": "markdown",
      "source": [
        "# Exploring the Relationship Between Air Quality and Health Issues\n",
        "\n",
        "## Introduction\n",
        "This project aims to explore the relationship between air quality and respiratory issues, specifically how pollutants contribute to increased cardiovascular disease. By analyzing this dataset, we hope to raise awareness of the growing dangers associated with pollution in our ever-expanding world."
      ],
      "metadata": {
        "id": "4CJUsebeFvtL"
      }
    },
    {
      "cell_type": "markdown",
      "source": [
        "## 1. Data Loading and Inspection\n",
        "We begin by loading the dataset and inspecting its structure to understand the features available for analysis.\n"
      ],
      "metadata": {
        "id": "BfUhKIXkPkyn"
      }
    },
    {
      "cell_type": "code",
      "source": [
        "import pandas as pd\n"
      ],
      "metadata": {
        "id": "EXv0MuPPPjgo"
      },
      "execution_count": 13,
      "outputs": []
    },
    {
      "cell_type": "code",
      "source": [
        "df = pd.read_csv('../dataset/consumables_usage.csv')"
      ],
      "metadata": {
        "id": "koiLBf_3Visf"
      },
      "execution_count": null,
      "outputs": []
    }
  ]
}